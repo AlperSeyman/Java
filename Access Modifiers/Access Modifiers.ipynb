{
 "cells": [
  {
   "cell_type": "markdown",
   "id": "246fbfa6",
   "metadata": {},
   "source": [
    "## Access Modifiers\n",
    "\n",
    "Access modifiers define access at two levels:\n",
    "\n",
    "### Class Level Access Modifiers\n",
    "\n",
    "* public: If a class is marked as public, it can be accessed by all classes both inside and outside the package.\n",
    "\n",
    "* default: Default means no access modifier is used. If a class is written without any access modifier, only classes inside the same package can access it. Classes from outside the package cannot access it.\n",
    "\n",
    "* Note: protected and private access modifiers cannot be used for classes.\n",
    "\n",
    "### Method and Field (Member) Level Access Modifiers\n",
    "\n",
    "* public: If a method or field (also called a class member or attribute) is defined as public, it can be accessed by all classes inside and outside the package.\n",
    "However, the class that contains this member must also be accessible.\n",
    "\n",
    "* default: If a method or field is written without any access modifier (default), it can only be accessed by classes in the same package.\n",
    "\n",
    "* protected: If a method or field is defined as protected, it can be accessed by other classes in the same package.\n",
    "Classes from outside the package can only access it if they are subclasses of the class that owns this member.\n",
    "\n",
    "* private: If a field is defined as private, it can only be accessed from within its own class.\n",
    "\n",
    "As we learned earlier, variables defined inside a method are called local variables.\n",
    "These variables cannot be accessed from other methods or classes.\n",
    "Because of this, access modifiers cannot be added to local variables."
   ]
  }
 ],
 "metadata": {
  "language_info": {
   "name": "python"
  }
 },
 "nbformat": 4,
 "nbformat_minor": 5
}
